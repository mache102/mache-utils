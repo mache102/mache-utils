{
 "cells": [
  {
   "cell_type": "markdown",
   "metadata": {},
   "source": [
    "`upgrades`: blood, brain, bone, and prestige upgrades.  \n",
    "`generators`: parts factory generators.  "
   ]
  },
  {
   "cell_type": "code",
   "execution_count": 13,
   "metadata": {},
   "outputs": [],
   "source": [
    "import os \n",
    "import shutil\n",
    "import json"
   ]
  },
  {
   "cell_type": "code",
   "execution_count": 12,
   "metadata": {},
   "outputs": [],
   "source": [
    "save_name = \"zombieData.json\""
   ]
  },
  {
   "cell_type": "code",
   "execution_count": 23,
   "metadata": {},
   "outputs": [],
   "source": [
    "# look for a file called save_name in initial_save_name and move it to the current directory\n",
    "initial_save_name = \"~/Downloads/\"\n",
    "initial_save = os.path.join(os.path.expanduser(initial_save_name), save_name)\n",
    "\n",
    "if os.path.exists(initial_save):\n",
    "    shutil.move(initial_save, os.path.join(\"./\", save_name))\n",
    "\n",
    "else:\n",
    "    print(\"File not found\")"
   ]
  },
  {
   "cell_type": "code",
   "execution_count": 26,
   "metadata": {},
   "outputs": [],
   "source": [
    "# beautify the json file (4 space indents)\n",
    "\n",
    "with open(save_name, 'r') as f:\n",
    "    data = json.load(f)\n",
    "\n",
    "with open(save_name, 'w') as f:\n",
    "    json.dump(data, f, indent=4)"
   ]
  },
  {
   "cell_type": "code",
   "execution_count": 29,
   "metadata": {},
   "outputs": [],
   "source": [
    "new_level = 10000\n",
    "\n",
    "# levels completed modifier\n",
    "with open(save_name, 'r') as f:\n",
    "    save = json.load(f)\n",
    "\n",
    "if save.get(\"levelUnlocked\") <= new_level:\n",
    "    save[\"levelUnlocked\"] = new_level + 1\n",
    "if save.get(\"allTimeHighestLevel\") < new_level:\n",
    "    save[\"allTimeHighestLevel\"] = new_level\n",
    "\n",
    "save[\"levelsCompleted\"] = list(range(1, new_level + 1))\n",
    "\n",
    "save[\"trophies\"] = list(range(5, new_level + 1, 5))\n",
    "\n",
    "with open(save_name, 'w') as f:\n",
    "    json.dump(save, f, indent=4)\n"
   ]
  },
  {
   "cell_type": "code",
   "execution_count": 28,
   "metadata": {},
   "outputs": [],
   "source": [
    "# unbeautify the json file for pasting\n",
    "\n",
    "with open(save_name, 'r') as f:\n",
    "    save = json.load(f)\n",
    "\n",
    "save_str = json.dumps(save, separators=(',', ':'))\n",
    "with open(save_name, 'w') as f:\n",
    "    f.write(save_str)"
   ]
  },
  {
   "cell_type": "code",
   "execution_count": null,
   "metadata": {},
   "outputs": [],
   "source": []
  }
 ],
 "metadata": {
  "kernelspec": {
   "display_name": "base",
   "language": "python",
   "name": "python3"
  },
  "language_info": {
   "codemirror_mode": {
    "name": "ipython",
    "version": 3
   },
   "file_extension": ".py",
   "mimetype": "text/x-python",
   "name": "python",
   "nbconvert_exporter": "python",
   "pygments_lexer": "ipython3",
   "version": "3.11.3"
  },
  "orig_nbformat": 4
 },
 "nbformat": 4,
 "nbformat_minor": 2
}
