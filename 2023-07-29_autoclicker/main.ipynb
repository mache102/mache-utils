{
 "cells": [
  {
   "cell_type": "code",
   "execution_count": 20,
   "metadata": {},
   "outputs": [],
   "source": [
    "import time\n",
    "from pynput import keyboard, mouse\n",
    "from pynput.mouse import Controller, Button"
   ]
  },
  {
   "cell_type": "code",
   "execution_count": 11,
   "metadata": {},
   "outputs": [],
   "source": [
    "def on_activate():\n",
    "    global autoclick\n",
    "    autoclick = not autoclick\n",
    "    print(f\"Autoclick: {autoclick}\")\n",
    "\n",
    "def is_pressed(key):\n",
    "    return keyboard.Controller().pressed(key)\n"
   ]
  },
  {
   "cell_type": "code",
   "execution_count": 29,
   "metadata": {},
   "outputs": [
    {
     "name": "stdout",
     "output_type": "stream",
     "text": [
      "Autoclick: True\n",
      "Autoclick: False\n",
      "Autoclick: True\n",
      "Autoclick: False\n",
      "Autoclick: True\n",
      "Autoclick: False\n"
     ]
    },
    {
     "ename": "KeyboardInterrupt",
     "evalue": "",
     "output_type": "error",
     "traceback": [
      "\u001b[0;31m---------------------------------------------------------------------------\u001b[0m",
      "\u001b[0;31mKeyboardInterrupt\u001b[0m                         Traceback (most recent call last)",
      "Cell \u001b[0;32mIn[29], line 10\u001b[0m\n\u001b[1;32m      8\u001b[0m n \u001b[39m=\u001b[39m \u001b[39m50\u001b[39m\n\u001b[1;32m      9\u001b[0m autoclick \u001b[39m=\u001b[39m \u001b[39mFalse\u001b[39;00m\n\u001b[0;32m---> 10\u001b[0m \u001b[39mwhile\u001b[39;00m \u001b[39mTrue\u001b[39;00m:\n\u001b[1;32m     11\u001b[0m     \u001b[39mif\u001b[39;00m autoclick:\n\u001b[1;32m     12\u001b[0m         mouse\u001b[39m.\u001b[39mclick(Button\u001b[39m.\u001b[39mleft)\n",
      "\u001b[0;31mKeyboardInterrupt\u001b[0m: "
     ]
    }
   ],
   "source": [
    "mouse = Controller()\n",
    "\n",
    "# Register the hotkey (Ctrl + Alt + X) to toggle the autoclicker on/off\n",
    "with keyboard.GlobalHotKeys({\n",
    "        '<ctrl>+<alt>+x': on_activate\n",
    "    }) as h:\n",
    "    # simple autoclicker that clicks where the mouse is at, n times per second.\n",
    "    n = 50\n",
    "    autoclick = False\n",
    "    while True:\n",
    "        if autoclick:\n",
    "            mouse.click(Button.left)\n",
    "            mouse.release(Button.left)\n",
    "            time.sleep(1/n)"
   ]
  }
 ],
 "metadata": {
  "kernelspec": {
   "display_name": "Python 3",
   "language": "python",
   "name": "python3"
  },
  "language_info": {
   "codemirror_mode": {
    "name": "ipython",
    "version": 3
   },
   "file_extension": ".py",
   "mimetype": "text/x-python",
   "name": "python",
   "nbconvert_exporter": "python",
   "pygments_lexer": "ipython3",
   "version": "3.10.12"
  },
  "orig_nbformat": 4
 },
 "nbformat": 4,
 "nbformat_minor": 2
}
